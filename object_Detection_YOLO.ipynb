{
 "cells": [
  {
   "cell_type": "markdown",
   "metadata": {},
   "source": [
    "## 객체 탐지 (Object Detection)\n",
    "\n",
    "한 이미지에서 객체와 그 경계 상자(bounding box)를 탐지\n",
    "\n",
    "객체 탐지 알고리즘은 일반적으로 이미지를 입력으로 받고, 경계 상자와 객체 클래스 리스트를 출력\n",
    "\n",
    "경계 상자에 대해 그에 대응하는 예측 클래스와 클래스의 신뢰도(confidence)를 출력\n",
    "\n",
    "## Applications\n",
    "\n",
    "자율 주행 자동차에서 다른 자동차와 보행자를 찾을 때\n",
    "\n",
    "의료 분야에서 방사선 사진을 사용해 종양이나 위험한 조직을 찾을 때\n",
    "\n",
    "제조업에서 조립 로봇이 제품을 조립하거나 수리할 때\n",
    "\n",
    "보안 산업에서 위협을 탐지하거나 사람을 셀 때"
   ]
  },
  {
   "cell_type": "markdown",
   "metadata": {},
   "source": [
    "## Bounding Box\n",
    "\n",
    "이미지에서 하나의 객체 전체를 포함하는 가장 작은 직사각형"
   ]
  },
  {
   "cell_type": "markdown",
   "metadata": {},
   "source": [
    "## IOU(Intersection Over Union)\n",
    "\n",
    "실측값(Ground Truth)과 모델이 예측한 값이 얼마나 겹치는지를 나타내는 지표\n",
    "\n",
    "IOU가 높을수록 잘 예측한 모델"
   ]
  },
  {
   "cell_type": "code",
   "execution_count": 26,
   "metadata": {},
   "outputs": [],
   "source": [
    "def compute_iou(pred_box, gt_box):\n",
    "    x1 = np.maximum(pred_box[0], gt_box[0])\n",
    "    y1 = np.maximum(pred_box[1], gt_box[1])\n",
    "    x2 = np.maximum(pred_box[2], gt_box[2])\n",
    "    y2 = np.maximum(pred_box[3], gt_box[3])\n",
    "    \n",
    "    intersection = np.maximum(x2 - x1, 0) * np.maximum(y2 - y1, 0)\n",
    "    \n",
    "    pred_box_area = (pred_box[2] - pred_box[0]) * (pred_box[3] - pred_box[1])\n",
    "    gt_box_area = (gt_box[2] - gt_box[0]) * (gt_box[3] - gt_box[1])\n",
    "    \n",
    "    union = pred_box_area + gt_box_area - intersection_area\n",
    "    \n",
    "    iou = intersection / union\n",
    "    \n",
    "    return iou"
   ]
  },
  {
   "cell_type": "markdown",
   "metadata": {},
   "source": [
    "## NMS(Non-Maximum Suppression, 비최댓값 억제)\n",
    "\n",
    "확률이 가장 높은 상자와 겹치는 상자들을 제거하는 과정\n",
    "\n",
    "최댓값을 갖지 않는 상자들을 제거\n",
    "\n",
    "과정\n",
    "\n",
    "확률 기준으로 모든 상자를 정렬하고 먼저 가장 확률이 높은 상자를 취함\n",
    "\n",
    "각 상자에 대해 다른 모든 상자와의 IOU를 계산\n",
    "\n",
    "특정 임곗값을 넘는 상자는 제거"
   ]
  },
  {
   "cell_type": "code",
   "execution_count": 27,
   "metadata": {},
   "outputs": [],
   "source": [
    "import numpy as np\n",
    "\n",
    "def non_max_suppression_fast(boxes, overlap_thresh):\n",
    "    if len(boxes) == 0:\n",
    "        return []\n",
    "    \n",
    "    if boxes.dtype.kind == 'i':\n",
    "        boxes = boxes.astype('float')\n",
    "    \n",
    "    pick = []\n",
    "    x1 = boxes[:, 0]\n",
    "    y1 = boxes[:, 1]\n",
    "    x2 = boxes[:, 2]\n",
    "    y2 = boxes[:, 3]\n",
    "    \n",
    "    area = (x2 - x1 + 1) * (y2 - y1 + 1)\n",
    "    idxs = np.argsort(y2)\n",
    "    \n",
    "    while len(idxs) > 0:\n",
    "        last = len(idxs) - 1\n",
    "        i = idxs[last]\n",
    "        pick.append(i)\n",
    "        \n",
    "        xx1 = np.maximum(x1[i], x1[idxs[:last]])\n",
    "        yy1 = np.maximum(y1[i], y1[idxs[:last]])\n",
    "        xx2 = np.maximum(x2[i], x2[idxs[:last]])\n",
    "        yy2 = np.maximum(y2[i], y2[idxs[:last]])\n",
    "        \n",
    "        w = np.maximum(0, xx2 - xx1 + 1)\n",
    "        h = np.maximum(0, yy2 - yy1 + 1)\n",
    "        \n",
    "        overlap = (w * h) / area[idxs[:last]]\n",
    "        \n",
    "        idxs = np.delete(idxs, np.concatenate(([last], np.where(overlap > overlap_thresh)[0])))\n",
    "    \n",
    "    return boxes[pick].astype('int')"
   ]
  },
  {
   "cell_type": "markdown",
   "metadata": {},
   "source": [
    "### 정밀도와 재현율\n",
    "\n",
    "- 일반적으로 객체 탐지 모델 평가에 사용되지는 않지만, 다른 지표를 계산하는 기본 지표 역할을 함\n",
    "\n",
    "  - `TP` \n",
    "\n",
    "    - True Positives\n",
    "\n",
    "    - 예측이 동일 클래스의 실제 상자와 일치하는지 측정\n",
    "\n",
    "  - `FP`\n",
    "\n",
    "    - False Positives\n",
    "\n",
    "    - 예측이 실제 상자와 일치하지 않는지 측정\n",
    "\n",
    "  - `FN`\n",
    "\n",
    "    - False Negatives\n",
    "\n",
    "    - 실제 분류값이 그와 일치하는 예측을 갖지 못하는지 측정\n",
    "\n",
    "<br>\n",
    "\n",
    "## $\\qquad precision = \\frac{TP}{TP \\ + \\ FP}$\n",
    "## $\\qquad recall = \\frac{TP}{TP \\ + \\ FN}$\n",
    "\n",
    "  - 모델이 안정적이지 않은 특징을 기반으로 객체 존재를 예측하면 거짓긍정(FP)이 많아져서 정밀도가 낮아짐\n",
    "\n",
    "  - 모델이 너무 엄격해서 정확한 조건을 만족할 때만 객체가 탐지된 것으로 간주하면 거짓부정(FN)이 많아져서 재현율이 낮아짐\n"
   ]
  },
  {
   "cell_type": "markdown",
   "metadata": {},
   "source": [
    "### 정밀도-재현율 곡선(precision-recall curve) \n",
    "\n",
    "- 신뢰도 임곗값마다 모델의 정밀도와 재현율을 시각화\n",
    "\n",
    "- 모든 bounding box와 함께 모델이 예측의 정확성을 얼마나 확실하는지 0 ~ 1사이의 숫자로 나타내는 신뢰도를 출력\n",
    "\n",
    "- 임계값 T에 따라 정밀도와 재현율이 달라짐\n",
    "\n",
    "  - 임곗값 T 이하의 예측은 제거함\n",
    "\n",
    "  - T가 1에 가까우면 정밀도는 높지만 재현율은 낮음  \n",
    "    놓치는 객체가 많아져서 재현율이 낮아짐. 즉, 신뢰도가 높은 예측만 유지하기때문에 정밀도는 높아짐\n",
    "\n",
    "  - T가 0에 가까우면 정밀도는 낮지만 재현율은 높음  \n",
    "    대부분의 예측을 유지하기때문에 재현율은 높아지고, 거짓긍정(FP)이 많아져서 정밀도가 낮아짐\n",
    "\n",
    "- 예를 들어, 모델이 보행자를 탐지하고 있으면 특별한 이유없이 차를 세우더라도 어떤 보행자도 놓치지 않도록 재현율을 높여야 함\n",
    "  모델이 투자 기회를 탐지하고 있다면 일부 기회를 놓치게 되더라도 잘못된 기회에 돈을 거는 일을 피하기 위해 정밀도를 높여야 함\n",
    "\n",
    "<img src=\"https://www.researchgate.net/profile/Davide_Chicco/publication/321672019/figure/fig1/AS:614279602511886@1523467078452/a-Example-of-Precision-Recall-curve-with-the-precision-score-on-the-y-axis-and-the.png\">\n",
    "\n",
    "<sub>[이미지 출처] https://www.researchgate.net/figure/a-Example-of-Precision-Recall-curve-with-the-precision-score-on-the-y-axis-and-the_fig1_321672019</sub>"
   ]
  },
  {
   "cell_type": "markdown",
   "metadata": {},
   "source": [
    "# YOLO (You Only Look Once)\n",
    "\n",
    "- 가장 빠른 객체 검출 알고리즘 중 하나\n",
    "\n",
    "- 256x256 사이즈의 이미지\n",
    "\n",
    "- GPU 사용 시, 초당 170프레임(170**FPS**, **frames per second**),  \n",
    "  이는 파이썬, 텐서플로 기반 프레임워크가 아닌 C++로 구현된 코드 기준\n",
    "\n",
    "- 작은 크기의 물체를 탐지하는데는 어려움\n",
    "\n",
    "<img src=\"https://miro.medium.com/max/1400/1*bSLNlG7crv-p-m4LVYYk3Q.png\" width=\"600\">\n",
    "\n",
    "\n",
    "- https://pjreddie.com/darknet/yolo/\n",
    "\n",
    "- 자세한 내용 참조 : https://www.kaggle.com/aruchomu/yolo-v3-object-detection-in-tensorflow"
   ]
  },
  {
   "cell_type": "markdown",
   "metadata": {},
   "source": [
    "## YOLO Backbone\n",
    "\n",
    "- 백본 모델(backbone model) 기반\n",
    "\n",
    "- 특징 추출기(Feature Extractor)라고도 불림\n",
    "\n",
    "- YOLO는 자체 맞춤 아키텍쳐 사용\n",
    "\n",
    "- 어떤 특징 추출기 아키텍쳐를 사용했는지에 따라 성능 달라짐\n",
    "\n",
    "  <img src=\"https://www.researchgate.net/publication/335865923/figure/fig1/AS:804106595758082@1568725360777/Structure-detail-of-YOLOv3It-uses-Darknet-53-as-the-backbone-network-and-uses-three.jpg\">\n",
    "\n",
    "  <sub>[이미지 출처] https://www.researchgate.net/figure/Structure-detail-of-YOLOv3It-uses-Darknet-53-as-the-backbone-network-and-uses-three_fig1_335865923</sub>\n",
    "\n",
    "- 마지막 계층은 크기가 $w \\times h \\times D$인 특징 볼륨 출력\n",
    "\n",
    "- $w \\times h $는 그리드의 크기이고, $D$는 특징 볼륨 깊이\n",
    "\n"
   ]
  },
  {
   "cell_type": "code",
   "execution_count": 28,
   "metadata": {},
   "outputs": [
    {
     "name": "stdout",
     "output_type": "stream",
     "text": [
      "d:\\STUDY\\CV\\yolov3-tf2\\yolov3-tf2\n"
     ]
    },
    {
     "name": "stderr",
     "output_type": "stream",
     "text": [
      "Cloning into 'yolov3-tf2'...\n"
     ]
    },
    {
     "name": "stdout",
     "output_type": "stream",
     "text": [
      "Obtaining file:///D:/STUDY/CV/yolov3-tf2/yolov3-tf2 (from -r requirements-gpu.txt (line 6))\n",
      "Requirement already satisfied: tensorflow-gpu==2.5.1 in c:\\users\\smj\\.conda\\envs\\yolov3-tf2-gpu\\lib\\site-packages (from -r requirements-gpu.txt (line 1)) (2.5.1)\n",
      "Requirement already satisfied: opencv-python==4.2.0.32 in c:\\users\\smj\\.conda\\envs\\yolov3-tf2-gpu\\lib\\site-packages (from -r requirements-gpu.txt (line 2)) (4.2.0.32)\n",
      "Requirement already satisfied: lxml in c:\\users\\smj\\.conda\\envs\\yolov3-tf2-gpu\\lib\\site-packages (from -r requirements-gpu.txt (line 3)) (4.7.1)\n",
      "Requirement already satisfied: tqdm in c:\\users\\smj\\.conda\\envs\\yolov3-tf2-gpu\\lib\\site-packages (from -r requirements-gpu.txt (line 4)) (4.62.3)\n",
      "Requirement already satisfied: opt-einsum~=3.3.0 in c:\\users\\smj\\.conda\\envs\\yolov3-tf2-gpu\\lib\\site-packages (from tensorflow-gpu==2.5.1->-r requirements-gpu.txt (line 1)) (3.3.0)\n",
      "Requirement already satisfied: keras-preprocessing~=1.1.2 in c:\\users\\smj\\.conda\\envs\\yolov3-tf2-gpu\\lib\\site-packages (from tensorflow-gpu==2.5.1->-r requirements-gpu.txt (line 1)) (1.1.2)\n",
      "Requirement already satisfied: gast==0.4.0 in c:\\users\\smj\\.conda\\envs\\yolov3-tf2-gpu\\lib\\site-packages (from tensorflow-gpu==2.5.1->-r requirements-gpu.txt (line 1)) (0.4.0)\n",
      "Requirement already satisfied: absl-py~=0.10 in c:\\users\\smj\\.conda\\envs\\yolov3-tf2-gpu\\lib\\site-packages (from tensorflow-gpu==2.5.1->-r requirements-gpu.txt (line 1)) (0.15.0)\n",
      "Requirement already satisfied: wrapt~=1.12.1 in c:\\users\\smj\\.conda\\envs\\yolov3-tf2-gpu\\lib\\site-packages (from tensorflow-gpu==2.5.1->-r requirements-gpu.txt (line 1)) (1.12.1)\n",
      "Requirement already satisfied: typing-extensions~=3.7.4 in c:\\users\\smj\\.conda\\envs\\yolov3-tf2-gpu\\lib\\site-packages (from tensorflow-gpu==2.5.1->-r requirements-gpu.txt (line 1)) (3.7.4.3)\n",
      "Requirement already satisfied: flatbuffers~=1.12.0 in c:\\users\\smj\\.conda\\envs\\yolov3-tf2-gpu\\lib\\site-packages (from tensorflow-gpu==2.5.1->-r requirements-gpu.txt (line 1)) (1.12)\n",
      "Requirement already satisfied: tensorboard~=2.5 in c:\\users\\smj\\.conda\\envs\\yolov3-tf2-gpu\\lib\\site-packages (from tensorflow-gpu==2.5.1->-r requirements-gpu.txt (line 1)) (2.8.0)\n",
      "Requirement already satisfied: protobuf>=3.9.2 in c:\\users\\smj\\.conda\\envs\\yolov3-tf2-gpu\\lib\\site-packages (from tensorflow-gpu==2.5.1->-r requirements-gpu.txt (line 1)) (3.19.4)\n",
      "Requirement already satisfied: keras-nightly~=2.5.0.dev in c:\\users\\smj\\.conda\\envs\\yolov3-tf2-gpu\\lib\\site-packages (from tensorflow-gpu==2.5.1->-r requirements-gpu.txt (line 1)) (2.5.0.dev2021032900)\n",
      "Requirement already satisfied: wheel~=0.35 in c:\\users\\smj\\.conda\\envs\\yolov3-tf2-gpu\\lib\\site-packages (from tensorflow-gpu==2.5.1->-r requirements-gpu.txt (line 1)) (0.37.1)\n",
      "Requirement already satisfied: tensorflow-estimator<2.6.0,>=2.5.0 in c:\\users\\smj\\.conda\\envs\\yolov3-tf2-gpu\\lib\\site-packages (from tensorflow-gpu==2.5.1->-r requirements-gpu.txt (line 1)) (2.5.0)\n",
      "Requirement already satisfied: numpy~=1.19.2 in c:\\users\\smj\\.conda\\envs\\yolov3-tf2-gpu\\lib\\site-packages (from tensorflow-gpu==2.5.1->-r requirements-gpu.txt (line 1)) (1.19.5)\n",
      "Requirement already satisfied: termcolor~=1.1.0 in c:\\users\\smj\\.conda\\envs\\yolov3-tf2-gpu\\lib\\site-packages (from tensorflow-gpu==2.5.1->-r requirements-gpu.txt (line 1)) (1.1.0)\n",
      "Requirement already satisfied: astunparse~=1.6.3 in c:\\users\\smj\\.conda\\envs\\yolov3-tf2-gpu\\lib\\site-packages (from tensorflow-gpu==2.5.1->-r requirements-gpu.txt (line 1)) (1.6.3)\n",
      "Requirement already satisfied: google-pasta~=0.2 in c:\\users\\smj\\.conda\\envs\\yolov3-tf2-gpu\\lib\\site-packages (from tensorflow-gpu==2.5.1->-r requirements-gpu.txt (line 1)) (0.2.0)\n",
      "Requirement already satisfied: six~=1.15.0 in c:\\users\\smj\\.conda\\envs\\yolov3-tf2-gpu\\lib\\site-packages (from tensorflow-gpu==2.5.1->-r requirements-gpu.txt (line 1)) (1.15.0)\n",
      "Requirement already satisfied: h5py~=3.1.0 in c:\\users\\smj\\.conda\\envs\\yolov3-tf2-gpu\\lib\\site-packages (from tensorflow-gpu==2.5.1->-r requirements-gpu.txt (line 1)) (3.1.0)\n",
      "Requirement already satisfied: grpcio~=1.34.0 in c:\\users\\smj\\.conda\\envs\\yolov3-tf2-gpu\\lib\\site-packages (from tensorflow-gpu==2.5.1->-r requirements-gpu.txt (line 1)) (1.34.1)\n",
      "Requirement already satisfied: colorama in c:\\users\\smj\\.conda\\envs\\yolov3-tf2-gpu\\lib\\site-packages (from tqdm->-r requirements-gpu.txt (line 4)) (0.4.4)\n",
      "Requirement already satisfied: cached-property in c:\\users\\smj\\.conda\\envs\\yolov3-tf2-gpu\\lib\\site-packages (from h5py~=3.1.0->tensorflow-gpu==2.5.1->-r requirements-gpu.txt (line 1)) (1.5.2)\n",
      "Requirement already satisfied: tensorboard-plugin-wit>=1.6.0 in c:\\users\\smj\\.conda\\envs\\yolov3-tf2-gpu\\lib\\site-packages (from tensorboard~=2.5->tensorflow-gpu==2.5.1->-r requirements-gpu.txt (line 1)) (1.8.1)\n",
      "Requirement already satisfied: markdown>=2.6.8 in c:\\users\\smj\\.conda\\envs\\yolov3-tf2-gpu\\lib\\site-packages (from tensorboard~=2.5->tensorflow-gpu==2.5.1->-r requirements-gpu.txt (line 1)) (3.3.6)\n",
      "Requirement already satisfied: tensorboard-data-server<0.7.0,>=0.6.0 in c:\\users\\smj\\.conda\\envs\\yolov3-tf2-gpu\\lib\\site-packages (from tensorboard~=2.5->tensorflow-gpu==2.5.1->-r requirements-gpu.txt (line 1)) (0.6.1)\n",
      "Requirement already satisfied: werkzeug>=0.11.15 in c:\\users\\smj\\.conda\\envs\\yolov3-tf2-gpu\\lib\\site-packages (from tensorboard~=2.5->tensorflow-gpu==2.5.1->-r requirements-gpu.txt (line 1)) (2.0.2)\n",
      "Requirement already satisfied: requests<3,>=2.21.0 in c:\\users\\smj\\.conda\\envs\\yolov3-tf2-gpu\\lib\\site-packages (from tensorboard~=2.5->tensorflow-gpu==2.5.1->-r requirements-gpu.txt (line 1)) (2.27.1)\n",
      "Requirement already satisfied: setuptools>=41.0.0 in c:\\users\\smj\\.conda\\envs\\yolov3-tf2-gpu\\lib\\site-packages (from tensorboard~=2.5->tensorflow-gpu==2.5.1->-r requirements-gpu.txt (line 1)) (58.0.4)\n",
      "Requirement already satisfied: google-auth<3,>=1.6.3 in c:\\users\\smj\\.conda\\envs\\yolov3-tf2-gpu\\lib\\site-packages (from tensorboard~=2.5->tensorflow-gpu==2.5.1->-r requirements-gpu.txt (line 1)) (2.5.0)\n",
      "Requirement already satisfied: google-auth-oauthlib<0.5,>=0.4.1 in c:\\users\\smj\\.conda\\envs\\yolov3-tf2-gpu\\lib\\site-packages (from tensorboard~=2.5->tensorflow-gpu==2.5.1->-r requirements-gpu.txt (line 1)) (0.4.6)\n",
      "Requirement already satisfied: rsa<5,>=3.1.4 in c:\\users\\smj\\.conda\\envs\\yolov3-tf2-gpu\\lib\\site-packages (from google-auth<3,>=1.6.3->tensorboard~=2.5->tensorflow-gpu==2.5.1->-r requirements-gpu.txt (line 1)) (4.8)\n",
      "Requirement already satisfied: cachetools<6.0,>=2.0.0 in c:\\users\\smj\\.conda\\envs\\yolov3-tf2-gpu\\lib\\site-packages (from google-auth<3,>=1.6.3->tensorboard~=2.5->tensorflow-gpu==2.5.1->-r requirements-gpu.txt (line 1)) (5.0.0)\n",
      "Requirement already satisfied: pyasn1-modules>=0.2.1 in c:\\users\\smj\\.conda\\envs\\yolov3-tf2-gpu\\lib\\site-packages (from google-auth<3,>=1.6.3->tensorboard~=2.5->tensorflow-gpu==2.5.1->-r requirements-gpu.txt (line 1)) (0.2.8)\n",
      "Requirement already satisfied: requests-oauthlib>=0.7.0 in c:\\users\\smj\\.conda\\envs\\yolov3-tf2-gpu\\lib\\site-packages (from google-auth-oauthlib<0.5,>=0.4.1->tensorboard~=2.5->tensorflow-gpu==2.5.1->-r requirements-gpu.txt (line 1)) (1.3.1)\n",
      "Requirement already satisfied: importlib-metadata>=4.4 in c:\\users\\smj\\.conda\\envs\\yolov3-tf2-gpu\\lib\\site-packages (from markdown>=2.6.8->tensorboard~=2.5->tensorflow-gpu==2.5.1->-r requirements-gpu.txt (line 1)) (4.10.1)\n",
      "Requirement already satisfied: zipp>=0.5 in c:\\users\\smj\\.conda\\envs\\yolov3-tf2-gpu\\lib\\site-packages (from importlib-metadata>=4.4->markdown>=2.6.8->tensorboard~=2.5->tensorflow-gpu==2.5.1->-r requirements-gpu.txt (line 1)) (3.7.0)\n",
      "Requirement already satisfied: pyasn1<0.5.0,>=0.4.6 in c:\\users\\smj\\.conda\\envs\\yolov3-tf2-gpu\\lib\\site-packages (from pyasn1-modules>=0.2.1->google-auth<3,>=1.6.3->tensorboard~=2.5->tensorflow-gpu==2.5.1->-r requirements-gpu.txt (line 1)) (0.4.8)\n",
      "Requirement already satisfied: charset-normalizer~=2.0.0 in c:\\users\\smj\\.conda\\envs\\yolov3-tf2-gpu\\lib\\site-packages (from requests<3,>=2.21.0->tensorboard~=2.5->tensorflow-gpu==2.5.1->-r requirements-gpu.txt (line 1)) (2.0.10)\n",
      "Requirement already satisfied: certifi>=2017.4.17 in c:\\users\\smj\\.conda\\envs\\yolov3-tf2-gpu\\lib\\site-packages (from requests<3,>=2.21.0->tensorboard~=2.5->tensorflow-gpu==2.5.1->-r requirements-gpu.txt (line 1)) (2021.10.8)\n",
      "Requirement already satisfied: idna<4,>=2.5 in c:\\users\\smj\\.conda\\envs\\yolov3-tf2-gpu\\lib\\site-packages (from requests<3,>=2.21.0->tensorboard~=2.5->tensorflow-gpu==2.5.1->-r requirements-gpu.txt (line 1)) (3.3)\n",
      "Requirement already satisfied: urllib3<1.27,>=1.21.1 in c:\\users\\smj\\.conda\\envs\\yolov3-tf2-gpu\\lib\\site-packages (from requests<3,>=2.21.0->tensorboard~=2.5->tensorflow-gpu==2.5.1->-r requirements-gpu.txt (line 1)) (1.26.8)\n",
      "Requirement already satisfied: oauthlib>=3.0.0 in c:\\users\\smj\\.conda\\envs\\yolov3-tf2-gpu\\lib\\site-packages (from requests-oauthlib>=0.7.0->google-auth-oauthlib<0.5,>=0.4.1->tensorboard~=2.5->tensorflow-gpu==2.5.1->-r requirements-gpu.txt (line 1)) (3.2.0)\n",
      "Installing collected packages: yolov3-tf2\n",
      "  Attempting uninstall: yolov3-tf2\n",
      "    Found existing installation: yolov3-tf2 0.1\n",
      "    Uninstalling yolov3-tf2-0.1:\n",
      "      Successfully uninstalled yolov3-tf2-0.1\n",
      "  Running setup.py develop for yolov3-tf2\n",
      "Successfully installed yolov3-tf2-0.1\n"
     ]
    }
   ],
   "source": [
    "!git clone https://github.com/zzh8829/yolov3-tf2\n",
    "%cd yolov3-tf2\n",
    "!pip install -r requirements-gpu.txt"
   ]
  },
  {
   "cell_type": "code",
   "execution_count": 29,
   "metadata": {},
   "outputs": [
    {
     "name": "stderr",
     "output_type": "stream",
     "text": [
      "'ls'��(��) ���� �Ǵ� �ܺ� ����, ������ �� �ִ� ���α׷�, �Ǵ�\n",
      "��ġ ������ �ƴմϴ�.\n"
     ]
    }
   ],
   "source": [
    "!ls"
   ]
  },
  {
   "cell_type": "code",
   "execution_count": 30,
   "metadata": {},
   "outputs": [
    {
     "data": {
      "text/plain": [
       "'2.5.1'"
      ]
     },
     "execution_count": 30,
     "metadata": {},
     "output_type": "execute_result"
    }
   ],
   "source": [
    "\n",
    "import tensorflow as tf\n",
    "tf.__version__"
   ]
  },
  {
   "cell_type": "code",
   "execution_count": 31,
   "metadata": {},
   "outputs": [
    {
     "name": "stderr",
     "output_type": "stream",
     "text": [
      "'wget'��(��) ���� �Ǵ� �ܺ� ����, ������ �� �ִ� ���α׷�, �Ǵ�\n",
      "��ġ ������ �ƴմϴ�.\n"
     ]
    },
    {
     "name": "stdout",
     "output_type": "stream",
     "text": [
      "Model: \"yolov3\"\n",
      "__________________________________________________________________________________________________\n",
      "Layer (type)                    Output Shape         Param #     Connected to                     \n",
      "==================================================================================================\n",
      "input (InputLayer)              [(None, None, None,  0                                            \n",
      "__________________________________________________________________________________________________\n",
      "yolo_darknet (Functional)       ((None, None, None,  40620640    input[0][0]                      \n",
      "__________________________________________________________________________________________________\n",
      "yolo_conv_0 (Functional)        (None, None, None, 5 11024384    yolo_darknet[0][2]               \n",
      "__________________________________________________________________________________________________\n",
      "yolo_conv_1 (Functional)        (None, None, None, 2 2957312     yolo_conv_0[0][0]                \n",
      "                                                                 yolo_darknet[0][1]               \n",
      "__________________________________________________________________________________________________\n",
      "yolo_conv_2 (Functional)        (None, None, None, 1 741376      yolo_conv_1[0][0]                \n",
      "                                                                 yolo_darknet[0][0]               \n",
      "__________________________________________________________________________________________________\n",
      "yolo_output_0 (Functional)      (None, None, None, 3 4984063     yolo_conv_0[0][0]                \n",
      "__________________________________________________________________________________________________\n",
      "yolo_output_1 (Functional)      (None, None, None, 3 1312511     yolo_conv_1[0][0]                \n",
      "__________________________________________________________________________________________________\n",
      "yolo_output_2 (Functional)      (None, None, None, 3 361471      yolo_conv_2[0][0]                \n",
      "__________________________________________________________________________________________________\n",
      "yolo_boxes_0 (Lambda)           ((None, None, None,  0           yolo_output_0[0][0]              \n",
      "__________________________________________________________________________________________________\n",
      "yolo_boxes_1 (Lambda)           ((None, None, None,  0           yolo_output_1[0][0]              \n",
      "__________________________________________________________________________________________________\n",
      "yolo_boxes_2 (Lambda)           ((None, None, None,  0           yolo_output_2[0][0]              \n",
      "__________________________________________________________________________________________________\n",
      "yolo_nms (Lambda)               ((1, None, 4), (1, N 0           yolo_boxes_0[0][0]               \n",
      "                                                                 yolo_boxes_0[0][1]               \n",
      "                                                                 yolo_boxes_0[0][2]               \n",
      "                                                                 yolo_boxes_1[0][0]               \n",
      "                                                                 yolo_boxes_1[0][1]               \n",
      "                                                                 yolo_boxes_1[0][2]               \n",
      "                                                                 yolo_boxes_2[0][0]               \n",
      "                                                                 yolo_boxes_2[0][1]               \n",
      "                                                                 yolo_boxes_2[0][2]               \n",
      "==================================================================================================\n",
      "Total params: 62,001,757\n",
      "Trainable params: 61,949,149\n",
      "Non-trainable params: 52,608\n",
      "__________________________________________________________________________________________________\n"
     ]
    },
    {
     "name": "stderr",
     "output_type": "stream",
     "text": [
      "2022-01-31 09:48:14.349299: I tensorflow/stream_executor/platform/default/dso_loader.cc:53] Successfully opened dynamic library cudart64_110.dll\n",
      "2022-01-31 09:48:15.362700: I tensorflow/stream_executor/platform/default/dso_loader.cc:53] Successfully opened dynamic library nvcuda.dll\n",
      "2022-01-31 09:48:15.382023: I tensorflow/core/common_runtime/gpu/gpu_device.cc:1733] Found device 0 with properties: \n",
      "pciBusID: 0000:01:00.0 name: NVIDIA GeForce RTX 3090 computeCapability: 8.6\n",
      "coreClock: 1.86GHz coreCount: 82 deviceMemorySize: 24.00GiB deviceMemoryBandwidth: 871.81GiB/s\n",
      "2022-01-31 09:48:15.382247: I tensorflow/stream_executor/platform/default/dso_loader.cc:53] Successfully opened dynamic library cudart64_110.dll\n",
      "2022-01-31 09:48:15.386038: I tensorflow/stream_executor/platform/default/dso_loader.cc:53] Successfully opened dynamic library cublas64_11.dll\n",
      "2022-01-31 09:48:15.386125: I tensorflow/stream_executor/platform/default/dso_loader.cc:53] Successfully opened dynamic library cublasLt64_11.dll\n",
      "2022-01-31 09:48:15.387946: I tensorflow/stream_executor/platform/default/dso_loader.cc:53] Successfully opened dynamic library cufft64_10.dll\n",
      "2022-01-31 09:48:15.388751: I tensorflow/stream_executor/platform/default/dso_loader.cc:53] Successfully opened dynamic library curand64_10.dll\n",
      "2022-01-31 09:48:15.390150: I tensorflow/stream_executor/platform/default/dso_loader.cc:53] Successfully opened dynamic library cusolver64_11.dll\n",
      "2022-01-31 09:48:15.391776: I tensorflow/stream_executor/platform/default/dso_loader.cc:53] Successfully opened dynamic library cusparse64_11.dll\n",
      "2022-01-31 09:48:15.392441: I tensorflow/stream_executor/platform/default/dso_loader.cc:53] Successfully opened dynamic library cudnn64_8.dll\n",
      "2022-01-31 09:48:15.392601: I tensorflow/core/common_runtime/gpu/gpu_device.cc:1871] Adding visible gpu devices: 0\n",
      "2022-01-31 09:48:15.398938: I tensorflow/core/platform/cpu_feature_guard.cc:142] This TensorFlow binary is optimized with oneAPI Deep Neural Network Library (oneDNN) to use the following CPU instructions in performance-critical operations:  AVX AVX2\n",
      "To enable them in other operations, rebuild TensorFlow with the appropriate compiler flags.\n",
      "2022-01-31 09:48:15.399958: I tensorflow/core/common_runtime/gpu/gpu_device.cc:1733] Found device 0 with properties: \n",
      "pciBusID: 0000:01:00.0 name: NVIDIA GeForce RTX 3090 computeCapability: 8.6\n",
      "coreClock: 1.86GHz coreCount: 82 deviceMemorySize: 24.00GiB deviceMemoryBandwidth: 871.81GiB/s\n",
      "2022-01-31 09:48:15.400211: I tensorflow/core/common_runtime/gpu/gpu_device.cc:1871] Adding visible gpu devices: 0\n",
      "2022-01-31 09:48:15.794978: I tensorflow/core/common_runtime/gpu/gpu_device.cc:1258] Device interconnect StreamExecutor with strength 1 edge matrix:\n",
      "2022-01-31 09:48:15.795095: I tensorflow/core/common_runtime/gpu/gpu_device.cc:1264]      0 \n",
      "2022-01-31 09:48:15.795151: I tensorflow/core/common_runtime/gpu/gpu_device.cc:1277] 0:   N \n",
      "2022-01-31 09:48:15.795329: I tensorflow/core/common_runtime/gpu/gpu_device.cc:1418] Created TensorFlow device (/job:localhost/replica:0/task:0/device:GPU:0 with 21670 MB memory) -> physical GPU (device: 0, name: NVIDIA GeForce RTX 3090, pci bus id: 0000:01:00.0, compute capability: 8.6)\n",
      "WARNING:tensorflow:From C:\\Users\\SMJ\\.conda\\envs\\yolov3-tf2-gpu\\lib\\site-packages\\tensorflow\\python\\ops\\array_ops.py:5049: calling gather (from tensorflow.python.ops.array_ops) with validate_indices is deprecated and will be removed in a future version.\n",
      "Instructions for updating:\n",
      "The `validate_indices` argument has no effect. Indices are always validated on CPU and never validated on GPU.\n",
      "W0131 09:48:16.717944 15480 deprecation.py:534] From C:\\Users\\SMJ\\.conda\\envs\\yolov3-tf2-gpu\\lib\\site-packages\\tensorflow\\python\\ops\\array_ops.py:5049: calling gather (from tensorflow.python.ops.array_ops) with validate_indices is deprecated and will be removed in a future version.\n",
      "Instructions for updating:\n",
      "The `validate_indices` argument has no effect. Indices are always validated on CPU and never validated on GPU.\n",
      "I0131 09:48:16.729943 15480 convert.py:24] model created\n",
      "Traceback (most recent call last):\n",
      "  File \"convert.py\", line 39, in <module>\n",
      "    app.run(main)\n",
      "  File \"C:\\Users\\SMJ\\.conda\\envs\\yolov3-tf2-gpu\\lib\\site-packages\\absl\\app.py\", line 312, in run\n",
      "    _run_main(main, args)\n",
      "  File \"C:\\Users\\SMJ\\.conda\\envs\\yolov3-tf2-gpu\\lib\\site-packages\\absl\\app.py\", line 258, in _run_main\n",
      "    sys.exit(main(argv))\n",
      "  File \"convert.py\", line 26, in main\n",
      "    load_darknet_weights(yolo, FLAGS.weights, FLAGS.tiny)\n",
      "  File \"d:\\STUDY\\CV\\yolov3-tf2\\yolov3-tf2\\yolov3_tf2\\utils.py\", line 26, in load_darknet_weights\n",
      "    wf = open(weights_file, 'rb')\n",
      "FileNotFoundError: [Errno 2] No such file or directory: './data/yolov3.weights'\n"
     ]
    }
   ],
   "source": [
    "!wget http://pjreddie.com/media/files/yolov3.weight -0 data/yolov3.weights\n",
    "!python convert.py"
   ]
  },
  {
   "cell_type": "code",
   "execution_count": 32,
   "metadata": {},
   "outputs": [],
   "source": [
    "import sys\n",
    "from absl import app, logging, flags\n",
    "from absl.flags import FLAGS\n",
    "import time\n",
    "import cv2\n",
    "import numpy as np\n",
    "import tensorflow as tf\n",
    "from yolov3_tf2.models import YoloV3, YoloV3Tiny\n",
    "from yolov3_tf2.dataset import transform_images, load_tfrecord_dataset\n",
    "from yolov3_tf2.utils import draw_outputs"
   ]
  },
  {
   "cell_type": "code",
   "execution_count": 48,
   "metadata": {},
   "outputs": [
    {
     "ename": "DuplicateFlagError",
     "evalue": "The flag 'classes' is defined twice. First from C:\\Users\\SMJ\\.conda\\envs\\yolov3-tf2-gpu\\lib\\site-packages\\ipykernel_launcher.py, Second from C:\\Users\\SMJ\\.conda\\envs\\yolov3-tf2-gpu\\lib\\site-packages\\ipykernel_launcher.py.  Description from first occurrence: path to classes file",
     "output_type": "error",
     "traceback": [
      "\u001b[1;31m---------------------------------------------------------------------------\u001b[0m",
      "\u001b[1;31mDuplicateFlagError\u001b[0m                        Traceback (most recent call last)",
      "\u001b[1;32m~\\AppData\\Local\\Temp\\ipykernel_15892\\3654977043.py\u001b[0m in \u001b[0;36m<module>\u001b[1;34m\u001b[0m\n\u001b[1;32m----> 1\u001b[1;33m \u001b[0mflags\u001b[0m\u001b[1;33m.\u001b[0m\u001b[0mDEFINE_string\u001b[0m\u001b[1;33m(\u001b[0m\u001b[1;34m'classes'\u001b[0m\u001b[1;33m,\u001b[0m \u001b[1;34m'D:/STUDY/CV/yolov3-tf2/data/coco.names'\u001b[0m\u001b[1;33m,\u001b[0m \u001b[1;34m'path to classes file'\u001b[0m\u001b[1;33m)\u001b[0m\u001b[1;33m\u001b[0m\u001b[0m\n\u001b[0m\u001b[0;32m      2\u001b[0m \u001b[0mflags\u001b[0m\u001b[1;33m.\u001b[0m\u001b[0mDEFINE_string\u001b[0m\u001b[1;33m(\u001b[0m\u001b[1;34m'weights'\u001b[0m\u001b[1;33m,\u001b[0m \u001b[1;34m'D:/STUDY/CV/yolov3-tf2/checkpoints/yolov3.tf'\u001b[0m\u001b[1;33m,\u001b[0m \u001b[1;34m'path to weigths file'\u001b[0m\u001b[1;33m)\u001b[0m\u001b[1;33m\u001b[0m\u001b[0m\n\u001b[0;32m      3\u001b[0m \u001b[0mflags\u001b[0m\u001b[1;33m.\u001b[0m\u001b[0mDEFINE_boolean\u001b[0m\u001b[1;33m(\u001b[0m\u001b[1;34m'tiny'\u001b[0m\u001b[1;33m,\u001b[0m \u001b[1;32mFalse\u001b[0m\u001b[1;33m,\u001b[0m \u001b[1;34m'yolov3 or yolov3-tiny'\u001b[0m\u001b[1;33m)\u001b[0m\u001b[1;33m\u001b[0m\u001b[0m\n\u001b[0;32m      4\u001b[0m \u001b[0mflags\u001b[0m\u001b[1;33m.\u001b[0m\u001b[0mDEFINE_integer\u001b[0m\u001b[1;33m(\u001b[0m\u001b[1;34m'size'\u001b[0m\u001b[1;33m,\u001b[0m \u001b[1;36m416\u001b[0m\u001b[1;33m,\u001b[0m \u001b[1;34m'resize images to'\u001b[0m\u001b[1;33m)\u001b[0m\u001b[1;33m\u001b[0m\u001b[0m\n\u001b[0;32m      5\u001b[0m \u001b[0mflags\u001b[0m\u001b[1;33m.\u001b[0m\u001b[0mDEFINE_string\u001b[0m\u001b[1;33m(\u001b[0m\u001b[1;34m'image'\u001b[0m\u001b[1;33m,\u001b[0m \u001b[1;34m'D:/STUDY/CV/yolov3-tf2/data/girls.png'\u001b[0m\u001b[1;33m,\u001b[0m \u001b[1;34m'path to input image'\u001b[0m\u001b[1;33m)\u001b[0m\u001b[1;33m\u001b[0m\u001b[0m\n",
      "\u001b[1;32m~\\.conda\\envs\\yolov3-tf2-gpu\\lib\\site-packages\\absl\\flags\\_defines.py\u001b[0m in \u001b[0;36mDEFINE_string\u001b[1;34m(name, default, help, flag_values, required, **args)\u001b[0m\n\u001b[0;32m    292\u001b[0m       \u001b[0mserializer\u001b[0m\u001b[1;33m,\u001b[0m\u001b[1;33m\u001b[0m\u001b[0m\n\u001b[0;32m    293\u001b[0m       \u001b[0mrequired\u001b[0m\u001b[1;33m=\u001b[0m\u001b[0mrequired\u001b[0m\u001b[1;33m,\u001b[0m\u001b[1;33m\u001b[0m\u001b[0m\n\u001b[1;32m--> 294\u001b[1;33m       **args)\n\u001b[0m\u001b[0;32m    295\u001b[0m \u001b[1;33m\u001b[0m\u001b[0m\n\u001b[0;32m    296\u001b[0m \u001b[1;33m\u001b[0m\u001b[0m\n",
      "\u001b[1;32m~\\.conda\\envs\\yolov3-tf2-gpu\\lib\\site-packages\\absl\\flags\\_defines.py\u001b[0m in \u001b[0;36mDEFINE\u001b[1;34m(parser, name, default, help, flag_values, serializer, module_name, required, **args)\u001b[0m\n\u001b[0;32m    104\u001b[0m   return DEFINE_flag(\n\u001b[0;32m    105\u001b[0m       \u001b[0m_flag\u001b[0m\u001b[1;33m.\u001b[0m\u001b[0mFlag\u001b[0m\u001b[1;33m(\u001b[0m\u001b[0mparser\u001b[0m\u001b[1;33m,\u001b[0m \u001b[0mserializer\u001b[0m\u001b[1;33m,\u001b[0m \u001b[0mname\u001b[0m\u001b[1;33m,\u001b[0m \u001b[0mdefault\u001b[0m\u001b[1;33m,\u001b[0m \u001b[0mhelp\u001b[0m\u001b[1;33m,\u001b[0m \u001b[1;33m**\u001b[0m\u001b[0margs\u001b[0m\u001b[1;33m)\u001b[0m\u001b[1;33m,\u001b[0m \u001b[0mflag_values\u001b[0m\u001b[1;33m,\u001b[0m\u001b[1;33m\u001b[0m\u001b[0m\n\u001b[1;32m--> 106\u001b[1;33m       module_name, required)\n\u001b[0m\u001b[0;32m    107\u001b[0m \u001b[1;33m\u001b[0m\u001b[0m\n\u001b[0;32m    108\u001b[0m \u001b[1;33m\u001b[0m\u001b[0m\n",
      "\u001b[1;32m~\\.conda\\envs\\yolov3-tf2-gpu\\lib\\site-packages\\absl\\flags\\_defines.py\u001b[0m in \u001b[0;36mDEFINE_flag\u001b[1;34m(flag, flag_values, module_name, required)\u001b[0m\n\u001b[0;32m    138\u001b[0m   \u001b[1;31m# Copying the reference to flag_values prevents pychecker warnings.\u001b[0m\u001b[1;33m\u001b[0m\u001b[1;33m\u001b[0m\u001b[0m\n\u001b[0;32m    139\u001b[0m   \u001b[0mfv\u001b[0m \u001b[1;33m=\u001b[0m \u001b[0mflag_values\u001b[0m\u001b[1;33m\u001b[0m\u001b[0m\n\u001b[1;32m--> 140\u001b[1;33m   \u001b[0mfv\u001b[0m\u001b[1;33m[\u001b[0m\u001b[0mflag\u001b[0m\u001b[1;33m.\u001b[0m\u001b[0mname\u001b[0m\u001b[1;33m]\u001b[0m \u001b[1;33m=\u001b[0m \u001b[0mflag\u001b[0m\u001b[1;33m\u001b[0m\u001b[0m\n\u001b[0m\u001b[0;32m    141\u001b[0m   \u001b[1;31m# Tell flag_values who's defining the flag.\u001b[0m\u001b[1;33m\u001b[0m\u001b[1;33m\u001b[0m\u001b[0m\n\u001b[0;32m    142\u001b[0m   \u001b[1;32mif\u001b[0m \u001b[0mmodule_name\u001b[0m\u001b[1;33m:\u001b[0m\u001b[1;33m\u001b[0m\u001b[0m\n",
      "\u001b[1;32m~\\.conda\\envs\\yolov3-tf2-gpu\\lib\\site-packages\\absl\\flags\\_flagvalues.py\u001b[0m in \u001b[0;36m__setitem__\u001b[1;34m(self, name, flag)\u001b[0m\n\u001b[0;32m    437\u001b[0m         \u001b[1;31m# module is simply being imported a subsequent time.\u001b[0m\u001b[1;33m\u001b[0m\u001b[1;33m\u001b[0m\u001b[0m\n\u001b[0;32m    438\u001b[0m         \u001b[1;32mreturn\u001b[0m\u001b[1;33m\u001b[0m\u001b[0m\n\u001b[1;32m--> 439\u001b[1;33m       \u001b[1;32mraise\u001b[0m \u001b[0m_exceptions\u001b[0m\u001b[1;33m.\u001b[0m\u001b[0mDuplicateFlagError\u001b[0m\u001b[1;33m.\u001b[0m\u001b[0mfrom_flag\u001b[0m\u001b[1;33m(\u001b[0m\u001b[0mname\u001b[0m\u001b[1;33m,\u001b[0m \u001b[0mself\u001b[0m\u001b[1;33m)\u001b[0m\u001b[1;33m\u001b[0m\u001b[0m\n\u001b[0m\u001b[0;32m    440\u001b[0m     \u001b[0mshort_name\u001b[0m \u001b[1;33m=\u001b[0m \u001b[0mflag\u001b[0m\u001b[1;33m.\u001b[0m\u001b[0mshort_name\u001b[0m\u001b[1;33m\u001b[0m\u001b[0m\n\u001b[0;32m    441\u001b[0m     \u001b[1;31m# If a new flag overrides an old one, we need to cleanup the old flag's\u001b[0m\u001b[1;33m\u001b[0m\u001b[1;33m\u001b[0m\u001b[0m\n",
      "\u001b[1;31mDuplicateFlagError\u001b[0m: The flag 'classes' is defined twice. First from C:\\Users\\SMJ\\.conda\\envs\\yolov3-tf2-gpu\\lib\\site-packages\\ipykernel_launcher.py, Second from C:\\Users\\SMJ\\.conda\\envs\\yolov3-tf2-gpu\\lib\\site-packages\\ipykernel_launcher.py.  Description from first occurrence: path to classes file"
     ]
    }
   ],
   "source": [
    "flags.DEFINE_string('classes', 'D:/STUDY/CV/yolov3-tf2/data/coco.names', 'path to classes file')\n",
    "flags.DEFINE_string('weights', 'D:/STUDY/CV/yolov3-tf2/checkpoints/yolov3.tf', 'path to weigths file')\n",
    "flags.DEFINE_boolean('tiny', False, 'yolov3 or yolov3-tiny')\n",
    "flags.DEFINE_integer('size', 416, 'resize images to')\n",
    "flags.DEFINE_string('image', 'D:/STUDY/CV/yolov3-tf2/data/girls.png', 'path to input image')\n",
    "flags.DEFINE_string('tfrecord', None, 'tfrecord instead of image')\n",
    "flags.DEFINE_string('output', 'D:/STUDY/CV/yolov3-tf2/output.jpg', 'path to output image')\n",
    "flags.DEFINE_integer('num_classes', 80, 'number of classes in the model')\n",
    "\n",
    "app._run_init(['yolov3'], app.parse_flags_with_usage)\n",
    "\n",
    "physical_devices = tf.config.experimental.list_physical_devices('GPU')\n",
    "tf.config.experimental.set_memory_growth(physical_devices[0], True)"
   ]
  },
  {
   "cell_type": "code",
   "execution_count": 51,
   "metadata": {},
   "outputs": [],
   "source": [
    "path = 'D:/STUDY/CV/yolov3-tf2/'\n",
    "FLAGS.image = path + 'data/meme.jpg'"
   ]
  },
  {
   "cell_type": "code",
   "execution_count": 52,
   "metadata": {},
   "outputs": [
    {
     "name": "stderr",
     "output_type": "stream",
     "text": [
      "I0131 10:02:39.604644  9596 3387376074.py:7] weight loaded\n",
      "I0131 10:02:39.605623  9596 3387376074.py:10] classes loaded\n"
     ]
    }
   ],
   "source": [
    "if FLAGS.tiny:\n",
    "    yolo = YoloV3Tiny(classes=FLAGS.num_classes)\n",
    "else:\n",
    "    yolo = YoloV3(classes=FLAGS.num_classes)\n",
    "    \n",
    "yolo.load_weights(FLAGS.weights).expect_partial()\n",
    "logging.info('weight loaded')\n",
    "\n",
    "class_names = [c.strip() for c in open(FLAGS.classes).readline()]\n",
    "logging.info('classes loaded')"
   ]
  },
  {
   "cell_type": "code",
   "execution_count": 53,
   "metadata": {},
   "outputs": [
    {
     "name": "stderr",
     "output_type": "stream",
     "text": [
      "I0131 10:02:43.121371  9596 3700512197.py:9] time: 0.31200361251831055\n",
      "I0131 10:02:43.122371  9596 3700512197.py:11] detections:\n"
     ]
    },
    {
     "ename": "IndexError",
     "evalue": "list index out of range",
     "output_type": "error",
     "traceback": [
      "\u001b[1;31m---------------------------------------------------------------------------\u001b[0m",
      "\u001b[1;31mIndexError\u001b[0m                                Traceback (most recent call last)",
      "\u001b[1;32m~\\AppData\\Local\\Temp\\ipykernel_15892\\3700512197.py\u001b[0m in \u001b[0;36m<module>\u001b[1;34m\u001b[0m\n\u001b[0;32m     11\u001b[0m \u001b[0mlogging\u001b[0m\u001b[1;33m.\u001b[0m\u001b[0minfo\u001b[0m\u001b[1;33m(\u001b[0m\u001b[1;34m'detections:'\u001b[0m\u001b[1;33m)\u001b[0m\u001b[1;33m\u001b[0m\u001b[0m\n\u001b[0;32m     12\u001b[0m \u001b[1;32mfor\u001b[0m \u001b[0mi\u001b[0m \u001b[1;32min\u001b[0m \u001b[0mrange\u001b[0m\u001b[1;33m(\u001b[0m\u001b[0mnums\u001b[0m\u001b[1;33m[\u001b[0m\u001b[1;36m0\u001b[0m\u001b[1;33m]\u001b[0m\u001b[1;33m)\u001b[0m\u001b[1;33m:\u001b[0m\u001b[1;33m\u001b[0m\u001b[0m\n\u001b[1;32m---> 13\u001b[1;33m     logging.info('{}, {}, {}'.format(class_names[int(classes[0][i])],\n\u001b[0m\u001b[0;32m     14\u001b[0m                                       \u001b[0mnp\u001b[0m\u001b[1;33m.\u001b[0m\u001b[0marray\u001b[0m\u001b[1;33m(\u001b[0m\u001b[0mscores\u001b[0m\u001b[1;33m[\u001b[0m\u001b[1;36m0\u001b[0m\u001b[1;33m]\u001b[0m\u001b[1;33m[\u001b[0m\u001b[0mi\u001b[0m\u001b[1;33m]\u001b[0m\u001b[1;33m)\u001b[0m\u001b[1;33m,\u001b[0m\u001b[1;33m\u001b[0m\u001b[0m\n\u001b[0;32m     15\u001b[0m                                       np.array(boxes[0][i])))\n",
      "\u001b[1;31mIndexError\u001b[0m: list index out of range"
     ]
    }
   ],
   "source": [
    "img_raw = tf.image.decode_image(open(FLAGS.image, 'rb').read(), channels=3)\n",
    "\n",
    "img = tf.expand_dims(img_raw, 0)\n",
    "img = transform_images(img, FLAGS.size)\n",
    "\n",
    "t1 = time.time()\n",
    "boxes, scores, classes, nums = yolo(img)\n",
    "t2 = time.time()\n",
    "logging.info('time: {}'.format(t2 - t1))\n",
    "\n",
    "logging.info('detections:')\n",
    "for i in range(nums[0]):\n",
    "    logging.info('{}, {}, {}'.format(class_names[int(classes[i])],\n",
    "                                      np.array(scores[0][i]),\n",
    "                                      np.array(boxes[0][i])))\n",
    "    \n",
    "img = cv2.cvtColor(img_raw.numpy(), cv2.COLOR_RGB2BGR)\n",
    "img = draw_outputs(img, (boxes, scores, classes, nums), class_names)"
   ]
  },
  {
   "cell_type": "code",
   "execution_count": 43,
   "metadata": {},
   "outputs": [
    {
     "ename": "TypeError",
     "evalue": "Expected Ptr<cv::UMat> for argument 'img'",
     "output_type": "error",
     "traceback": [
      "\u001b[1;31m---------------------------------------------------------------------------\u001b[0m",
      "\u001b[1;31mTypeError\u001b[0m                                 Traceback (most recent call last)",
      "\u001b[1;32m~\\AppData\\Local\\Temp\\ipykernel_15892\\3615000329.py\u001b[0m in \u001b[0;36m<module>\u001b[1;34m\u001b[0m\n\u001b[0;32m      1\u001b[0m \u001b[1;32mfrom\u001b[0m \u001b[0mIPython\u001b[0m\u001b[1;33m.\u001b[0m\u001b[0mdisplay\u001b[0m \u001b[1;32mimport\u001b[0m \u001b[0mImage\u001b[0m\u001b[1;33m,\u001b[0m \u001b[0mdisplay\u001b[0m\u001b[1;33m\u001b[0m\u001b[0m\n\u001b[0;32m      2\u001b[0m \u001b[1;33m\u001b[0m\u001b[0m\n\u001b[1;32m----> 3\u001b[1;33m \u001b[0mdisplay\u001b[0m\u001b[1;33m(\u001b[0m\u001b[0mImage\u001b[0m\u001b[1;33m(\u001b[0m\u001b[0mdata\u001b[0m\u001b[1;33m=\u001b[0m\u001b[0mbytes\u001b[0m\u001b[1;33m(\u001b[0m\u001b[0mcv2\u001b[0m\u001b[1;33m.\u001b[0m\u001b[0mimencode\u001b[0m\u001b[1;33m(\u001b[0m\u001b[1;34m'.jpg'\u001b[0m\u001b[1;33m,\u001b[0m \u001b[0mimg\u001b[0m\u001b[1;33m)\u001b[0m\u001b[1;33m[\u001b[0m\u001b[1;36m1\u001b[0m\u001b[1;33m]\u001b[0m\u001b[1;33m)\u001b[0m\u001b[1;33m,\u001b[0m \u001b[0mwidth\u001b[0m\u001b[1;33m=\u001b[0m\u001b[1;36m800\u001b[0m\u001b[1;33m)\u001b[0m\u001b[1;33m)\u001b[0m\u001b[1;33m\u001b[0m\u001b[0m\n\u001b[0m",
      "\u001b[1;31mTypeError\u001b[0m: Expected Ptr<cv::UMat> for argument 'img'"
     ]
    }
   ],
   "source": [
    "from IPython.display import Image, display\n",
    "\n",
    "display(Image(data=bytes(cv2.imencode('.jpg', img)[1]), width=800))"
   ]
  }
 ],
 "metadata": {
  "interpreter": {
   "hash": "b3ba2566441a7c06988d0923437866b63cedc61552a5af99d1f4fb67d367b25f"
  },
  "kernelspec": {
   "display_name": "Python 3.9.7 64-bit ('base': conda)",
   "language": "python",
   "name": "python3"
  },
  "language_info": {
   "codemirror_mode": {
    "name": "ipython",
    "version": 3
   },
   "file_extension": ".py",
   "mimetype": "text/x-python",
   "name": "python",
   "nbconvert_exporter": "python",
   "pygments_lexer": "ipython3",
   "version": "3.7.0"
  },
  "orig_nbformat": 4
 },
 "nbformat": 4,
 "nbformat_minor": 2
}
